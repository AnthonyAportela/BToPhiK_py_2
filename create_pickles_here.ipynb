{
 "cells": [
  {
   "cell_type": "code",
   "execution_count": 1,
   "id": "56855bfb-0c80-4056-ad8c-4338f2c77b60",
   "metadata": {},
   "outputs": [],
   "source": [
    "from processors import *\n",
    "import warnings, inspect\n",
    "from coffea import processor\n",
    "from coffea.nanoevents.methods import vector, candidate\n",
    "from coffea.nanoevents import BaseSchema\n",
    "warnings.filterwarnings(\"ignore\")"
   ]
  },
  {
   "cell_type": "code",
   "execution_count": 2,
   "id": "9e6e7cd8-9a03-4feb-8f9d-6360e7f9bb42",
   "metadata": {},
   "outputs": [],
   "source": [
    "prefix = '/eos/uscms/store/user/christiw/bparking/V1p19/MC_Fall18/v1/v9/normalized/'\n",
    "\n",
    "filenames = [\n",
    "    'BToKPhi_MuonGenFilter_PhiToPi0Pi0_mPhi0p3_ctau1000_1pb_weighted.root',\n",
    "    'BToKPhi_MuonGenFilter_PhiToPi0Pi0_mPhi0p3_ctau300_1pb_weighted.root',\n",
    "    'BToKPhi_MuonGenFilter_PhiToPiPlusPiMinus_mPhi0p3_ctau1000_1pb_weighted.root',\n",
    "    'BToKPhi_MuonGenFilter_PhiToPiPlusPiMinus_mPhi0p3_ctau300_1pb_weighted.root',\n",
    "]\n",
    "\n",
    "fileset = {\n",
    "    f\"{file.split('_')[2]}_{file.split('_')[3]}_{file.split('_')[4]}\": \n",
    "    [prefix+file] \n",
    "    for file in filenames\n",
    "}\n",
    "\n",
    "fileset['background'] = ['/eos/uscms/store/user/christiw/bparking/V1p19/Data2018_UL/v9/normalized/ParkingBPH4_2018A_goodLumi.root']\n",
    "\n",
    "#=======================================================================\n",
    "\n",
    "# prefix = 'root://cmseos.fnal.gov//store/user/ahayrape/BigNtupler/'\n",
    "\n",
    "# fileset = {\n",
    "#             'PhiToPi0Pi0_mPhi0p3_ctau300':\n",
    "#                 [prefix + 'PhiToPi0Pi0_mPhi0p3_ctau300.root'],\n",
    "\n",
    "#             'PhiToPi0Pi0_mPhi1p0_ctau1000':\n",
    "#                 [prefix + 'PhiToPi0Pi0_mPhi1p0_ctau1000.root'],\n",
    "\n",
    "#             'PhiToPiPlusPiMinus_mPhi0p3_ctau300':\n",
    "#                 [prefix + 'PhiToPiPlusPiMinus_mPhi0p3_ctau300.root'],\n",
    "\n",
    "#             'PhiToPiPlusPiMinus_mPhi1p0_ctau1000':\n",
    "#                 [prefix + 'PhiToPiPlusPiMinus_mPhi1p0_ctau1000.root'],\n",
    "\n",
    "#             'PhiToPiPlusPiMinus_mPhi1p0_ctau300':\n",
    "#                 [prefix + 'PhiToPiPlusPiMinus_mPhi1p0_ctau300.root'],\n",
    "#          }\n",
    "\n",
    "# fileset['background'] = [prefix + 'Background.root']\n"
   ]
  },
  {
   "cell_type": "code",
   "execution_count": 3,
   "id": "eac119f2-9bd6-418e-9692-7ca556432d86",
   "metadata": {},
   "outputs": [
    {
     "name": "stdout",
     "output_type": "stream",
     "text": [
      "ProcessorV2\n"
     ]
    },
    {
     "data": {
      "text/html": [
       "<pre style=\"white-space:pre;overflow-x:auto;line-height:normal;font-family:Menlo,'DejaVu Sans Mono',consolas,'Courier New',monospace\"></pre>\n"
      ],
      "text/plain": [
       "\u001b[?25l"
      ]
     },
     "metadata": {},
     "output_type": "display_data"
    },
    {
     "data": {
      "application/vnd.jupyter.widget-view+json": {
       "model_id": "0b88446ea21d4200a46e04854d19b138",
       "version_major": 2,
       "version_minor": 0
      },
      "text/plain": [
       "Output()"
      ]
     },
     "metadata": {},
     "output_type": "display_data"
    },
    {
     "data": {
      "text/html": [
       "<pre style=\"white-space:pre;overflow-x:auto;line-height:normal;font-family:Menlo,'DejaVu Sans Mono',consolas,'Courier New',monospace\">\n",
       "</pre>\n"
      ],
      "text/plain": [
       "\n",
       "\u001b[?25h"
      ]
     },
     "metadata": {},
     "output_type": "display_data"
    },
    {
     "data": {
      "text/html": [
       "<pre style=\"white-space:pre;overflow-x:auto;line-height:normal;font-family:Menlo,'DejaVu Sans Mono',consolas,'Courier New',monospace\"></pre>\n"
      ],
      "text/plain": [
       "\u001b[?25l"
      ]
     },
     "metadata": {},
     "output_type": "display_data"
    },
    {
     "data": {
      "application/vnd.jupyter.widget-view+json": {
       "model_id": "ccaa23be4172487db99497a5fefeaa2d",
       "version_major": 2,
       "version_minor": 0
      },
      "text/plain": [
       "Output()"
      ]
     },
     "metadata": {},
     "output_type": "display_data"
    },
    {
     "data": {
      "text/html": [
       "<pre style=\"white-space:pre;overflow-x:auto;line-height:normal;font-family:Menlo,'DejaVu Sans Mono',consolas,'Courier New',monospace\">\n",
       "</pre>\n"
      ],
      "text/plain": [
       "\n",
       "\u001b[?25h"
      ]
     },
     "metadata": {},
     "output_type": "display_data"
    }
   ],
   "source": [
    "processors = {\n",
    "    # 'ProcessorV1': ProcessorV1(),\n",
    "    'ProcessorV2': ProcessorV2(),\n",
    "    #'ProcessorV3': ProcessorV3('CSC'),\n",
    "}\n",
    "\n",
    "\n",
    "test_mode = False\n",
    "\n",
    "for proc in processors:\n",
    "    print(proc)\n",
    "    if test_mode:\n",
    "        out = processor.run_uproot_job(\n",
    "            fileset,\n",
    "            treename=\"MuonSystem\",\n",
    "            processor_instance=processors[proc],\n",
    "            executor=processor.futures_executor,\n",
    "            # executor_args={\"schema\": BaseSchema, \"workers\": 10},\n",
    "            executor_args={\"schema\": BaseSchema, \"workers\": 1},\n",
    "            maxchunks = 1,\n",
    "            chunksize=1,\n",
    "        )\n",
    "    else:\n",
    "        out = processor.run_uproot_job(\n",
    "            fileset,\n",
    "            treename=\"MuonSystem\",\n",
    "            processor_instance=processors[proc],\n",
    "            executor=processor.futures_executor,\n",
    "            executor_args={\"schema\": BaseSchema, \"workers\": 10},\n",
    "            # executor_args={\"schema\": BaseSchema, \"workers\": 1},\n",
    "            # maxchunks = 200,\n",
    "            # chunksize=10000,\n",
    "        )\n",
    "        \n",
    "        filename = f'hists_cutflows_{proc}.pickle'\n",
    "        outfile = open(filename, 'wb')\n",
    "        pickle.dump(out, outfile)\n",
    "        outfile.close()"
   ]
  },
  {
   "cell_type": "code",
   "execution_count": null,
   "id": "6a0fcd4d-f64e-4293-b534-79a9ae607de5",
   "metadata": {},
   "outputs": [],
   "source": []
  }
 ],
 "metadata": {
  "kernelspec": {
   "display_name": "Python 3 (ipykernel)",
   "language": "python",
   "name": "python3"
  },
  "language_info": {
   "codemirror_mode": {
    "name": "ipython",
    "version": 3
   },
   "file_extension": ".py",
   "mimetype": "text/x-python",
   "name": "python",
   "nbconvert_exporter": "python",
   "pygments_lexer": "ipython3",
   "version": "3.9.15"
  }
 },
 "nbformat": 4,
 "nbformat_minor": 5
}
