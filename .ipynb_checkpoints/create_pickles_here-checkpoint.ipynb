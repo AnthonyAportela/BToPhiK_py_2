{
 "cells": [
  {
   "cell_type": "code",
   "execution_count": 1,
   "id": "56855bfb-0c80-4056-ad8c-4338f2c77b60",
   "metadata": {},
   "outputs": [],
   "source": [
    "from processors import *\n",
    "import warnings, inspect\n",
    "from coffea import processor\n",
    "from coffea.nanoevents.methods import vector, candidate\n",
    "from coffea.nanoevents import BaseSchema\n",
    "warnings.filterwarnings(\"ignore\")"
   ]
  },
  {
   "cell_type": "code",
   "execution_count": 2,
   "id": "9e6e7cd8-9a03-4feb-8f9d-6360e7f9bb42",
   "metadata": {},
   "outputs": [],
   "source": [
    "prefix = '/eos/uscms/store/user/christiw/bparking/V1p19/MC_Fall18/v1/v9/normalized/'\n",
    "\n",
    "filenames = ['BToKPhi_MuonGenFilter_PhiToPi0Pi0_mPhi0p3_ctau1000_1pb_weighted.root',\n",
    "'BToKPhi_MuonGenFilter_PhiToPi0Pi0_mPhi0p3_ctau300_1pb_weighted.root',\n",
    "'BToKPhi_MuonGenFilter_PhiToPiPlusPiMinus_mPhi0p3_ctau1000_1pb_weighted.root',\n",
    "'BToKPhi_MuonGenFilter_PhiToPiPlusPiMinus_mPhi0p3_ctau300_1pb_weighted.root',]\n",
    "\n",
    "fileset = {\n",
    "    f\"{file.split('_')[2]}_{file.split('_')[3]}_{file.split('_')[4]}\": \n",
    "    [prefix+file] \n",
    "    for file in filenames\n",
    "}\n",
    "\n",
    "fileset['background'] = ['/eos/uscms/store/user/christiw/bparking/V1p19/Data2018_UL/v9/normalized/ParkingBPH4_2018A_goodLumi.root']"
   ]
  },
  {
   "cell_type": "code",
   "execution_count": 3,
   "id": "eac119f2-9bd6-418e-9692-7ca556432d86",
   "metadata": {},
   "outputs": [
    {
     "name": "stdout",
     "output_type": "stream",
     "text": [
      "ProcessorV3\n"
     ]
    },
    {
     "data": {
      "text/html": [
       "<pre style=\"white-space:pre;overflow-x:auto;line-height:normal;font-family:Menlo,'DejaVu Sans Mono',consolas,'Courier New',monospace\"></pre>\n"
      ],
      "text/plain": [
       "\u001b[?25l"
      ]
     },
     "metadata": {},
     "output_type": "display_data"
    },
    {
     "data": {
      "application/vnd.jupyter.widget-view+json": {
       "model_id": "fdd0c5b89db7431ea6d54112c3f6349a",
       "version_major": 2,
       "version_minor": 0
      },
      "text/plain": [
       "Output()"
      ]
     },
     "metadata": {},
     "output_type": "display_data"
    },
    {
     "data": {
      "text/html": [
       "<pre style=\"white-space:pre;overflow-x:auto;line-height:normal;font-family:Menlo,'DejaVu Sans Mono',consolas,'Courier New',monospace\">\n",
       "</pre>\n"
      ],
      "text/plain": [
       "\n",
       "\u001b[?25h"
      ]
     },
     "metadata": {},
     "output_type": "display_data"
    },
    {
     "data": {
      "text/html": [
       "<pre style=\"white-space:pre;overflow-x:auto;line-height:normal;font-family:Menlo,'DejaVu Sans Mono',consolas,'Courier New',monospace\"></pre>\n"
      ],
      "text/plain": [
       "\u001b[?25l"
      ]
     },
     "metadata": {},
     "output_type": "display_data"
    },
    {
     "data": {
      "application/vnd.jupyter.widget-view+json": {
       "model_id": "56a26ffde5bf4e6282abfbe8628c94ee",
       "version_major": 2,
       "version_minor": 0
      },
      "text/plain": [
       "Output()"
      ]
     },
     "metadata": {},
     "output_type": "display_data"
    },
    {
     "data": {
      "text/html": [
       "<pre style=\"white-space:pre;overflow-x:auto;line-height:normal;font-family:Menlo,'DejaVu Sans Mono',consolas,'Courier New',monospace\">\n",
       "</pre>\n"
      ],
      "text/plain": [
       "\n",
       "\u001b[?25h"
      ]
     },
     "metadata": {},
     "output_type": "display_data"
    },
    {
     "name": "stderr",
     "output_type": "stream",
     "text": [
      "concurrent.futures.process._RemoteTraceback: \n",
      "\"\"\"\n",
      "Traceback (most recent call last):\n",
      "  File \"/uscms_data/d3/aaportel/mambaforge/envs/anal/lib/python3.9/site-packages/coffea/processor/executor.py\", line 1640, in _work_function\n",
      "    out = processor_instance.process(events)\n",
      "  File \"/uscms_data/d3/aaportel/BToPhiK_py_2/processors.py\", line 418, in process\n",
      "    out[dataset][f'numEvents_{cut}_SF'] = sum(events.muonSF[temp])\n",
      "  File \"/uscms_data/d3/aaportel/mambaforge/envs/anal/lib/python3.9/site-packages/awkward/highlevel.py\", line 1123, in __getattr__\n",
      "    raise AttributeError(\n",
      "AttributeError: no field named 'muonSF'\n",
      "\n",
      "(https://github.com/scikit-hep/awkward-1.0/blob/1.10.2/src/awkward/highlevel.py#L1124)\n",
      "\n",
      "The above exception was the direct cause of the following exception:\n",
      "\n",
      "Traceback (most recent call last):\n",
      "  File \"/uscms_data/d3/aaportel/mambaforge/envs/anal/lib/python3.9/concurrent/futures/process.py\", line 246, in _process_worker\n",
      "    r = call_item.fn(*call_item.args, **call_item.kwargs)\n",
      "  File \"/uscms_data/d3/aaportel/mambaforge/envs/anal/lib/python3.9/site-packages/coffea/processor/executor.py\", line 221, in __call__\n",
      "    out = self.function(*args, **kwargs)\n",
      "  File \"/uscms_data/d3/aaportel/mambaforge/envs/anal/lib/python3.9/site-packages/coffea/processor/executor.py\", line 1353, in automatic_retries\n",
      "    raise e\n",
      "  File \"/uscms_data/d3/aaportel/mambaforge/envs/anal/lib/python3.9/site-packages/coffea/processor/executor.py\", line 1337, in automatic_retries\n",
      "    return func(*args, **kwargs)\n",
      "  File \"/uscms_data/d3/aaportel/mambaforge/envs/anal/lib/python3.9/site-packages/coffea/processor/executor.py\", line 1642, in _work_function\n",
      "    raise Exception(f\"Failed processing file: {item!r}\") from e\n",
      "Exception: Failed processing file: WorkItem(dataset='PhiToPiPlusPiMinus_mPhi0p3_ctau300', filename='/eos/uscms/store/user/christiw/bparking/V1p19/MC_Fall18/v1/v9/normalized/BToKPhi_MuonGenFilter_PhiToPiPlusPiMinus_mPhi0p3_ctau300_1pb_weighted.root', treename='MuonSystem', entrystart=0, entrystop=1, fileuuid=b\"\\x15'\\xae$4\\xa5\\x11\\xed\\xaf?7\\n\\x03\\n\\xbe\\xef\", usermeta={})\n",
      "\"\"\"\n",
      "\n",
      "The above exception was the direct cause of the following exception:\n",
      "\n",
      "Traceback (most recent call last):\n",
      "  File \"/uscms_data/d3/aaportel/mambaforge/envs/anal/lib/python3.9/site-packages/coffea/processor/executor.py\", line 786, in _processwith\n",
      "    merged = _watcher(FH, self, reducer, pool)\n",
      "  File \"/uscms_data/d3/aaportel/mambaforge/envs/anal/lib/python3.9/site-packages/coffea/processor/executor.py\", line 402, in _watcher\n",
      "    batch = FH.fetch(len(FH.completed))\n",
      "  File \"/uscms_data/d3/aaportel/mambaforge/envs/anal/lib/python3.9/site-packages/coffea/processor/executor.py\", line 286, in fetch\n",
      "    raise bad_futures[0].exception()\n",
      "Exception: Failed processing file: WorkItem(dataset='PhiToPiPlusPiMinus_mPhi0p3_ctau300', filename='/eos/uscms/store/user/christiw/bparking/V1p19/MC_Fall18/v1/v9/normalized/BToKPhi_MuonGenFilter_PhiToPiPlusPiMinus_mPhi0p3_ctau300_1pb_weighted.root', treename='MuonSystem', entrystart=0, entrystop=1, fileuuid=b\"\\x15'\\xae$4\\xa5\\x11\\xed\\xaf?7\\n\\x03\\n\\xbe\\xef\", usermeta={})\n"
     ]
    },
    {
     "ename": "Exception",
     "evalue": "Failed processing file: WorkItem(dataset='PhiToPiPlusPiMinus_mPhi0p3_ctau300', filename='/eos/uscms/store/user/christiw/bparking/V1p19/MC_Fall18/v1/v9/normalized/BToKPhi_MuonGenFilter_PhiToPiPlusPiMinus_mPhi0p3_ctau300_1pb_weighted.root', treename='MuonSystem', entrystart=0, entrystop=1, fileuuid=b\"\\x15'\\xae$4\\xa5\\x11\\xed\\xaf?7\\n\\x03\\n\\xbe\\xef\", usermeta={})",
     "output_type": "error",
     "traceback": [
      "\u001b[0;31m---------------------------------------------------------------------------\u001b[0m",
      "\u001b[0;31mException\u001b[0m                                 Traceback (most recent call last)",
      "Cell \u001b[0;32mIn[3], line 13\u001b[0m\n\u001b[1;32m     11\u001b[0m \u001b[38;5;28mprint\u001b[39m(proc)\n\u001b[1;32m     12\u001b[0m \u001b[38;5;28;01mif\u001b[39;00m test_mode:\n\u001b[0;32m---> 13\u001b[0m     out \u001b[38;5;241m=\u001b[39m \u001b[43mprocessor\u001b[49m\u001b[38;5;241;43m.\u001b[39;49m\u001b[43mrun_uproot_job\u001b[49m\u001b[43m(\u001b[49m\n\u001b[1;32m     14\u001b[0m \u001b[43m        \u001b[49m\u001b[43mfileset\u001b[49m\u001b[43m,\u001b[49m\n\u001b[1;32m     15\u001b[0m \u001b[43m        \u001b[49m\u001b[43mtreename\u001b[49m\u001b[38;5;241;43m=\u001b[39;49m\u001b[38;5;124;43m\"\u001b[39;49m\u001b[38;5;124;43mMuonSystem\u001b[39;49m\u001b[38;5;124;43m\"\u001b[39;49m\u001b[43m,\u001b[49m\n\u001b[1;32m     16\u001b[0m \u001b[43m        \u001b[49m\u001b[43mprocessor_instance\u001b[49m\u001b[38;5;241;43m=\u001b[39;49m\u001b[43mprocessors\u001b[49m\u001b[43m[\u001b[49m\u001b[43mproc\u001b[49m\u001b[43m]\u001b[49m\u001b[43m,\u001b[49m\n\u001b[1;32m     17\u001b[0m \u001b[43m        \u001b[49m\u001b[43mexecutor\u001b[49m\u001b[38;5;241;43m=\u001b[39;49m\u001b[43mprocessor\u001b[49m\u001b[38;5;241;43m.\u001b[39;49m\u001b[43mfutures_executor\u001b[49m\u001b[43m,\u001b[49m\n\u001b[1;32m     18\u001b[0m \u001b[43m        \u001b[49m\u001b[38;5;66;43;03m# executor_args={\"schema\": BaseSchema, \"workers\": 10},\u001b[39;49;00m\n\u001b[1;32m     19\u001b[0m \u001b[43m        \u001b[49m\u001b[43mexecutor_args\u001b[49m\u001b[38;5;241;43m=\u001b[39;49m\u001b[43m{\u001b[49m\u001b[38;5;124;43m\"\u001b[39;49m\u001b[38;5;124;43mschema\u001b[39;49m\u001b[38;5;124;43m\"\u001b[39;49m\u001b[43m:\u001b[49m\u001b[43m \u001b[49m\u001b[43mBaseSchema\u001b[49m\u001b[43m,\u001b[49m\u001b[43m \u001b[49m\u001b[38;5;124;43m\"\u001b[39;49m\u001b[38;5;124;43mworkers\u001b[39;49m\u001b[38;5;124;43m\"\u001b[39;49m\u001b[43m:\u001b[49m\u001b[43m \u001b[49m\u001b[38;5;241;43m1\u001b[39;49m\u001b[43m}\u001b[49m\u001b[43m,\u001b[49m\n\u001b[1;32m     20\u001b[0m \u001b[43m        \u001b[49m\u001b[43mmaxchunks\u001b[49m\u001b[43m \u001b[49m\u001b[38;5;241;43m=\u001b[39;49m\u001b[43m \u001b[49m\u001b[38;5;241;43m1\u001b[39;49m\u001b[43m,\u001b[49m\n\u001b[1;32m     21\u001b[0m \u001b[43m        \u001b[49m\u001b[43mchunksize\u001b[49m\u001b[38;5;241;43m=\u001b[39;49m\u001b[38;5;241;43m1\u001b[39;49m\u001b[43m,\u001b[49m\n\u001b[1;32m     22\u001b[0m \u001b[43m    \u001b[49m\u001b[43m)\u001b[49m\n\u001b[1;32m     23\u001b[0m \u001b[38;5;28;01melse\u001b[39;00m:\n\u001b[1;32m     24\u001b[0m     out \u001b[38;5;241m=\u001b[39m processor\u001b[38;5;241m.\u001b[39mrun_uproot_job(\n\u001b[1;32m     25\u001b[0m         fileset,\n\u001b[1;32m     26\u001b[0m         treename\u001b[38;5;241m=\u001b[39m\u001b[38;5;124m\"\u001b[39m\u001b[38;5;124mMuonSystem\u001b[39m\u001b[38;5;124m\"\u001b[39m,\n\u001b[0;32m   (...)\u001b[0m\n\u001b[1;32m     32\u001b[0m         \u001b[38;5;66;03m# chunksize=10000,\u001b[39;00m\n\u001b[1;32m     33\u001b[0m     )\n",
      "File \u001b[0;32m/uscms_data/d3/aaportel/mambaforge/envs/anal/lib/python3.9/site-packages/coffea/processor/__init__.py:104\u001b[0m, in \u001b[0;36m_run_x_job\u001b[0;34m(fileset, treename, processor_instance, executor, executor_args, pre_executor, pre_args, chunksize, maxchunks, metadata_cache, dynamic_chunksize, format)\u001b[0m\n\u001b[1;32m     93\u001b[0m \u001b[38;5;66;03m# make Runner instance, assume other args are for _work_function & co.\u001b[39;00m\n\u001b[1;32m     94\u001b[0m run \u001b[38;5;241m=\u001b[39m Runner(\n\u001b[1;32m     95\u001b[0m     executor\u001b[38;5;241m=\u001b[39mexecutor,\n\u001b[1;32m     96\u001b[0m     chunksize\u001b[38;5;241m=\u001b[39mchunksize,\n\u001b[0;32m   (...)\u001b[0m\n\u001b[1;32m    101\u001b[0m     \u001b[38;5;241m*\u001b[39m\u001b[38;5;241m*\u001b[39mexecutor_args,\n\u001b[1;32m    102\u001b[0m )\n\u001b[0;32m--> 104\u001b[0m \u001b[38;5;28;01mreturn\u001b[39;00m \u001b[43mrun\u001b[49m\u001b[43m(\u001b[49m\n\u001b[1;32m    105\u001b[0m \u001b[43m    \u001b[49m\u001b[43mfileset\u001b[49m\u001b[43m,\u001b[49m\n\u001b[1;32m    106\u001b[0m \u001b[43m    \u001b[49m\u001b[43mtreename\u001b[49m\u001b[43m,\u001b[49m\n\u001b[1;32m    107\u001b[0m \u001b[43m    \u001b[49m\u001b[43mprocessor_instance\u001b[49m\u001b[38;5;241;43m=\u001b[39;49m\u001b[43mprocessor_instance\u001b[49m\u001b[43m,\u001b[49m\n\u001b[1;32m    108\u001b[0m \u001b[43m\u001b[49m\u001b[43m)\u001b[49m\n",
      "File \u001b[0;32m/uscms_data/d3/aaportel/mambaforge/envs/anal/lib/python3.9/site-packages/coffea/processor/executor.py:1686\u001b[0m, in \u001b[0;36mRunner.__call__\u001b[0;34m(self, fileset, treename, processor_instance)\u001b[0m\n\u001b[1;32m   1665\u001b[0m \u001b[38;5;28;01mdef\u001b[39;00m \u001b[38;5;21m__call__\u001b[39m(\n\u001b[1;32m   1666\u001b[0m     \u001b[38;5;28mself\u001b[39m,\n\u001b[1;32m   1667\u001b[0m     fileset: Dict,\n\u001b[1;32m   1668\u001b[0m     treename: \u001b[38;5;28mstr\u001b[39m,\n\u001b[1;32m   1669\u001b[0m     processor_instance: ProcessorABC,\n\u001b[1;32m   1670\u001b[0m ) \u001b[38;5;241m-\u001b[39m\u001b[38;5;241m>\u001b[39m Accumulatable:\n\u001b[1;32m   1671\u001b[0m \u001b[38;5;250m    \u001b[39m\u001b[38;5;124;03m\"\"\"Run the processor_instance on a given fileset\u001b[39;00m\n\u001b[1;32m   1672\u001b[0m \n\u001b[1;32m   1673\u001b[0m \u001b[38;5;124;03m    Parameters\u001b[39;00m\n\u001b[0;32m   (...)\u001b[0m\n\u001b[1;32m   1683\u001b[0m \u001b[38;5;124;03m            An instance of a class deriving from ProcessorABC\u001b[39;00m\n\u001b[1;32m   1684\u001b[0m \u001b[38;5;124;03m    \"\"\"\u001b[39;00m\n\u001b[0;32m-> 1686\u001b[0m     wrapped_out \u001b[38;5;241m=\u001b[39m \u001b[38;5;28;43mself\u001b[39;49m\u001b[38;5;241;43m.\u001b[39;49m\u001b[43mrun\u001b[49m\u001b[43m(\u001b[49m\u001b[43mfileset\u001b[49m\u001b[43m,\u001b[49m\u001b[43m \u001b[49m\u001b[43mprocessor_instance\u001b[49m\u001b[43m,\u001b[49m\u001b[43m \u001b[49m\u001b[43mtreename\u001b[49m\u001b[43m)\u001b[49m\n\u001b[1;32m   1687\u001b[0m     \u001b[38;5;28;01mif\u001b[39;00m \u001b[38;5;28mself\u001b[39m\u001b[38;5;241m.\u001b[39muse_dataframes:\n\u001b[1;32m   1688\u001b[0m         \u001b[38;5;28;01mreturn\u001b[39;00m wrapped_out  \u001b[38;5;66;03m# not wrapped anymore\u001b[39;00m\n",
      "File \u001b[0;32m/uscms_data/d3/aaportel/mambaforge/envs/anal/lib/python3.9/site-packages/coffea/processor/executor.py:1834\u001b[0m, in \u001b[0;36mRunner.run\u001b[0;34m(self, fileset, processor_instance, treename)\u001b[0m\n\u001b[1;32m   1829\u001b[0m closure \u001b[38;5;241m=\u001b[39m partial(\n\u001b[1;32m   1830\u001b[0m     \u001b[38;5;28mself\u001b[39m\u001b[38;5;241m.\u001b[39mautomatic_retries, \u001b[38;5;28mself\u001b[39m\u001b[38;5;241m.\u001b[39mretries, \u001b[38;5;28mself\u001b[39m\u001b[38;5;241m.\u001b[39mskipbadfiles, closure\n\u001b[1;32m   1831\u001b[0m )\n\u001b[1;32m   1833\u001b[0m executor \u001b[38;5;241m=\u001b[39m \u001b[38;5;28mself\u001b[39m\u001b[38;5;241m.\u001b[39mexecutor\u001b[38;5;241m.\u001b[39mcopy(\u001b[38;5;241m*\u001b[39m\u001b[38;5;241m*\u001b[39mexe_args)\n\u001b[0;32m-> 1834\u001b[0m wrapped_out, e \u001b[38;5;241m=\u001b[39m \u001b[43mexecutor\u001b[49m\u001b[43m(\u001b[49m\u001b[43mchunks\u001b[49m\u001b[43m,\u001b[49m\u001b[43m \u001b[49m\u001b[43mclosure\u001b[49m\u001b[43m,\u001b[49m\u001b[43m \u001b[49m\u001b[38;5;28;43;01mNone\u001b[39;49;00m\u001b[43m)\u001b[49m\n\u001b[1;32m   1835\u001b[0m \u001b[38;5;28;01mif\u001b[39;00m wrapped_out \u001b[38;5;129;01mis\u001b[39;00m \u001b[38;5;28;01mNone\u001b[39;00m:\n\u001b[1;32m   1836\u001b[0m     \u001b[38;5;28;01mraise\u001b[39;00m \u001b[38;5;167;01mValueError\u001b[39;00m(\n\u001b[1;32m   1837\u001b[0m         \u001b[38;5;124m\"\u001b[39m\u001b[38;5;124mNo chunks returned results, verify ``processor`` instance structure.\u001b[39m\u001b[38;5;130;01m\\n\u001b[39;00m\u001b[38;5;130;01m\\\u001b[39;00m\n\u001b[1;32m   1838\u001b[0m \u001b[38;5;124m        if you used skipbadfiles=True, it is possible all your files are bad.\u001b[39m\u001b[38;5;124m\"\u001b[39m\n\u001b[1;32m   1839\u001b[0m     )\n",
      "File \u001b[0;32m/uscms_data/d3/aaportel/mambaforge/envs/anal/lib/python3.9/site-packages/coffea/processor/executor.py:818\u001b[0m, in \u001b[0;36mFuturesExecutor.__call__\u001b[0;34m(self, items, function, accumulator)\u001b[0m\n\u001b[1;32m    816\u001b[0m \u001b[38;5;28;01melse\u001b[39;00m:\n\u001b[1;32m    817\u001b[0m     mergepoolinstance \u001b[38;5;241m=\u001b[39m \u001b[38;5;28;01mNone\u001b[39;00m\n\u001b[0;32m--> 818\u001b[0m \u001b[38;5;28;01mreturn\u001b[39;00m \u001b[43m_processwith\u001b[49m\u001b[43m(\u001b[49m\u001b[43mpool\u001b[49m\u001b[38;5;241;43m=\u001b[39;49m\u001b[43mpoolinstance\u001b[49m\u001b[43m,\u001b[49m\u001b[43m \u001b[49m\u001b[43mmergepool\u001b[49m\u001b[38;5;241;43m=\u001b[39;49m\u001b[43mmergepoolinstance\u001b[49m\u001b[43m)\u001b[49m\n",
      "File \u001b[0;32m/uscms_data/d3/aaportel/mambaforge/envs/anal/lib/python3.9/site-packages/coffea/processor/executor.py:802\u001b[0m, in \u001b[0;36mFuturesExecutor.__call__.<locals>._processwith\u001b[0;34m(pool, mergepool)\u001b[0m\n\u001b[1;32m    799\u001b[0m     \u001b[38;5;28;01mreturn\u001b[39;00m accumulate([_decompress(merged), accumulator]), e\n\u001b[1;32m    800\u001b[0m \u001b[38;5;28;01melse\u001b[39;00m:\n\u001b[0;32m--> 802\u001b[0m     \u001b[38;5;28;01mraise\u001b[39;00m e \u001b[38;5;28;01mfrom\u001b[39;00m \u001b[38;5;28mNone\u001b[39m\n",
      "File \u001b[0;32m/uscms_data/d3/aaportel/mambaforge/envs/anal/lib/python3.9/site-packages/coffea/processor/executor.py:786\u001b[0m, in \u001b[0;36mFuturesExecutor.__call__.<locals>._processwith\u001b[0;34m(pool, mergepool)\u001b[0m\n\u001b[1;32m    784\u001b[0m \u001b[38;5;28;01mtry\u001b[39;00m:\n\u001b[1;32m    785\u001b[0m     \u001b[38;5;28;01mif\u001b[39;00m mergepool \u001b[38;5;129;01mis\u001b[39;00m \u001b[38;5;28;01mNone\u001b[39;00m:\n\u001b[0;32m--> 786\u001b[0m         merged \u001b[38;5;241m=\u001b[39m \u001b[43m_watcher\u001b[49m\u001b[43m(\u001b[49m\u001b[43mFH\u001b[49m\u001b[43m,\u001b[49m\u001b[43m \u001b[49m\u001b[38;5;28;43mself\u001b[39;49m\u001b[43m,\u001b[49m\u001b[43m \u001b[49m\u001b[43mreducer\u001b[49m\u001b[43m,\u001b[49m\u001b[43m \u001b[49m\u001b[43mpool\u001b[49m\u001b[43m)\u001b[49m\n\u001b[1;32m    787\u001b[0m     \u001b[38;5;28;01melse\u001b[39;00m:\n\u001b[1;32m    788\u001b[0m         merged \u001b[38;5;241m=\u001b[39m _watcher(FH, \u001b[38;5;28mself\u001b[39m, reducer, mergepool)\n",
      "File \u001b[0;32m/uscms_data/d3/aaportel/mambaforge/envs/anal/lib/python3.9/site-packages/coffea/processor/executor.py:402\u001b[0m, in \u001b[0;36m_watcher\u001b[0;34m(FH, executor, merge_fcn, pool)\u001b[0m\n\u001b[1;32m    396\u001b[0m             progress\u001b[38;5;241m.\u001b[39mupdate(\n\u001b[1;32m    397\u001b[0m                 p_idm,\n\u001b[1;32m    398\u001b[0m                 total\u001b[38;5;241m=\u001b[39mprogress\u001b[38;5;241m.\u001b[39m_tasks[p_idm]\u001b[38;5;241m.\u001b[39mtotal \u001b[38;5;241m+\u001b[39m \u001b[38;5;241m1\u001b[39m,\n\u001b[1;32m    399\u001b[0m                 refresh\u001b[38;5;241m=\u001b[39m\u001b[38;5;28;01mTrue\u001b[39;00m,\n\u001b[1;32m    400\u001b[0m             )\n\u001b[1;32m    401\u001b[0m     \u001b[38;5;28;01melse\u001b[39;00m:  \u001b[38;5;66;03m# Merge within process\u001b[39;00m\n\u001b[0;32m--> 402\u001b[0m         batch \u001b[38;5;241m=\u001b[39m \u001b[43mFH\u001b[49m\u001b[38;5;241;43m.\u001b[39;49m\u001b[43mfetch\u001b[49m\u001b[43m(\u001b[49m\u001b[38;5;28;43mlen\u001b[39;49m\u001b[43m(\u001b[49m\u001b[43mFH\u001b[49m\u001b[38;5;241;43m.\u001b[39;49m\u001b[43mcompleted\u001b[49m\u001b[43m)\u001b[49m\u001b[43m)\u001b[49m\n\u001b[1;32m    403\u001b[0m         merged \u001b[38;5;241m=\u001b[39m _compress(\n\u001b[1;32m    404\u001b[0m             accumulate(\n\u001b[1;32m    405\u001b[0m                 progress\u001b[38;5;241m.\u001b[39mtrack(\n\u001b[0;32m   (...)\u001b[0m\n\u001b[1;32m    412\u001b[0m             executor\u001b[38;5;241m.\u001b[39mcompression,\n\u001b[1;32m    413\u001b[0m         )\n\u001b[1;32m    414\u001b[0m \u001b[38;5;66;03m# Add checkpointing\u001b[39;00m\n",
      "File \u001b[0;32m/uscms_data/d3/aaportel/mambaforge/envs/anal/lib/python3.9/site-packages/coffea/processor/executor.py:286\u001b[0m, in \u001b[0;36m_FuturesHolder.fetch\u001b[0;34m(self, N)\u001b[0m\n\u001b[1;32m    284\u001b[0m bad_futures \u001b[38;5;241m=\u001b[39m [future \u001b[38;5;28;01mfor\u001b[39;00m future \u001b[38;5;129;01min\u001b[39;00m _completed \u001b[38;5;28;01mif\u001b[39;00m \u001b[38;5;129;01mnot\u001b[39;00m _good_future(future)]\n\u001b[1;32m    285\u001b[0m \u001b[38;5;28mself\u001b[39m\u001b[38;5;241m.\u001b[39mcompleted\u001b[38;5;241m.\u001b[39mupdate(good_futures)\n\u001b[0;32m--> 286\u001b[0m \u001b[38;5;28;01mraise\u001b[39;00m bad_futures[\u001b[38;5;241m0\u001b[39m]\u001b[38;5;241m.\u001b[39mexception()\n",
      "\u001b[0;31mException\u001b[0m: Failed processing file: WorkItem(dataset='PhiToPiPlusPiMinus_mPhi0p3_ctau300', filename='/eos/uscms/store/user/christiw/bparking/V1p19/MC_Fall18/v1/v9/normalized/BToKPhi_MuonGenFilter_PhiToPiPlusPiMinus_mPhi0p3_ctau300_1pb_weighted.root', treename='MuonSystem', entrystart=0, entrystop=1, fileuuid=b\"\\x15'\\xae$4\\xa5\\x11\\xed\\xaf?7\\n\\x03\\n\\xbe\\xef\", usermeta={})"
     ]
    }
   ],
   "source": [
    "processors = {\n",
    "    # 'ProcessorV1': ProcessorV1(),\n",
    "    # 'ProcessorV2': ProcessorV2(),\n",
    "    'ProcessorV3': ProcessorV3('CSC'),\n",
    "}\n",
    "\n",
    "\n",
    "test_mode = True\n",
    "\n",
    "for proc in processors:\n",
    "    print(proc)\n",
    "    if test_mode:\n",
    "        out = processor.run_uproot_job(\n",
    "            fileset,\n",
    "            treename=\"MuonSystem\",\n",
    "            processor_instance=processors[proc],\n",
    "            executor=processor.futures_executor,\n",
    "            # executor_args={\"schema\": BaseSchema, \"workers\": 10},\n",
    "            executor_args={\"schema\": BaseSchema, \"workers\": 1},\n",
    "            maxchunks = 1,\n",
    "            chunksize=1,\n",
    "        )\n",
    "    else:\n",
    "        out = processor.run_uproot_job(\n",
    "            fileset,\n",
    "            treename=\"MuonSystem\",\n",
    "            processor_instance=processors[proc],\n",
    "            executor=processor.futures_executor,\n",
    "            executor_args={\"schema\": BaseSchema, \"workers\": 10},\n",
    "            # executor_args={\"schema\": BaseSchema, \"workers\": 1},\n",
    "            # maxchunks = 200,\n",
    "            # chunksize=10000,\n",
    "        )\n",
    "        \n",
    "        filename = f'hists_cutflows_{proc}.pickle'\n",
    "        outfile = open(filename, 'wb')\n",
    "        pickle.dump(out, outfile)\n",
    "        outfile.close()"
   ]
  },
  {
   "cell_type": "code",
   "execution_count": null,
   "id": "6a0fcd4d-f64e-4293-b534-79a9ae607de5",
   "metadata": {},
   "outputs": [],
   "source": []
  }
 ],
 "metadata": {
  "kernelspec": {
   "display_name": "Python 3 (ipykernel)",
   "language": "python",
   "name": "python3"
  },
  "language_info": {
   "codemirror_mode": {
    "name": "ipython",
    "version": 3
   },
   "file_extension": ".py",
   "mimetype": "text/x-python",
   "name": "python",
   "nbconvert_exporter": "python",
   "pygments_lexer": "ipython3",
   "version": "3.9.15"
  }
 },
 "nbformat": 4,
 "nbformat_minor": 5
}
